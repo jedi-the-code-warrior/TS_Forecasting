{
 "cells": [
  {
   "cell_type": "code",
   "execution_count": 125,
   "metadata": {},
   "outputs": [],
   "source": [
    "import numpy as np\n",
    "import pandas as pd\n",
    "import matplotlib.pyplot as plt\n",
    "from sklearn.preprocessing import MinMaxScaler\n",
    "from sklearn.metrics import mean_squared_error\n",
    "import tensorflow as tf\n",
    "from tensorflow.keras.models import Sequential\n",
    "from tensorflow.keras.layers import LSTM, Dense, Dropout, Input, Bidirectional\n",
    "from keras.callbacks import EarlyStopping\n",
    "import pandas_ta as ta"
   ]
  },
  {
   "cell_type": "code",
   "execution_count": 63,
   "metadata": {},
   "outputs": [],
   "source": [
    "spy_data = pd.read_csv('spy.csv')\n",
    "vix_data = pd.read_csv('vix.csv')\n",
    "\n",
    "# Merge SPY and VIX data on 'Date'\n",
    "data = pd.merge(spy_data, vix_data, on='Date', suffixes=('_SPY', '_VIX'))\n",
    "\n",
    "# Ensure Date is a datetime object\n",
    "data['Date'] = pd.to_datetime(data['Date'])\n",
    "\n",
    "data.set_index('Date', inplace=True)\n"
   ]
  },
  {
   "cell_type": "code",
   "execution_count": 64,
   "metadata": {},
   "outputs": [
    {
     "data": {
      "text/html": [
       "<div>\n",
       "<style scoped>\n",
       "    .dataframe tbody tr th:only-of-type {\n",
       "        vertical-align: middle;\n",
       "    }\n",
       "\n",
       "    .dataframe tbody tr th {\n",
       "        vertical-align: top;\n",
       "    }\n",
       "\n",
       "    .dataframe thead th {\n",
       "        text-align: right;\n",
       "    }\n",
       "</style>\n",
       "<table border=\"1\" class=\"dataframe\">\n",
       "  <thead>\n",
       "    <tr style=\"text-align: right;\">\n",
       "      <th></th>\n",
       "      <th>Open_SPY</th>\n",
       "      <th>High_SPY</th>\n",
       "      <th>Low_SPY</th>\n",
       "      <th>Close_SPY</th>\n",
       "      <th>Adj Close_SPY</th>\n",
       "      <th>Volume_SPY</th>\n",
       "      <th>Open_VIX</th>\n",
       "      <th>High_VIX</th>\n",
       "      <th>Low_VIX</th>\n",
       "      <th>Close_VIX</th>\n",
       "      <th>Adj Close_VIX</th>\n",
       "      <th>Volume_VIX</th>\n",
       "    </tr>\n",
       "    <tr>\n",
       "      <th>Date</th>\n",
       "      <th></th>\n",
       "      <th></th>\n",
       "      <th></th>\n",
       "      <th></th>\n",
       "      <th></th>\n",
       "      <th></th>\n",
       "      <th></th>\n",
       "      <th></th>\n",
       "      <th></th>\n",
       "      <th></th>\n",
       "      <th></th>\n",
       "      <th></th>\n",
       "    </tr>\n",
       "  </thead>\n",
       "  <tbody>\n",
       "    <tr>\n",
       "      <th>1993-01-29</th>\n",
       "      <td>43.96875</td>\n",
       "      <td>43.96875</td>\n",
       "      <td>43.75000</td>\n",
       "      <td>43.93750</td>\n",
       "      <td>24.684107</td>\n",
       "      <td>1003200</td>\n",
       "      <td>12.49</td>\n",
       "      <td>13.16</td>\n",
       "      <td>12.42</td>\n",
       "      <td>12.42</td>\n",
       "      <td>12.42</td>\n",
       "      <td>0.0</td>\n",
       "    </tr>\n",
       "    <tr>\n",
       "      <th>1993-02-01</th>\n",
       "      <td>43.96875</td>\n",
       "      <td>44.25000</td>\n",
       "      <td>43.96875</td>\n",
       "      <td>44.25000</td>\n",
       "      <td>24.859661</td>\n",
       "      <td>480500</td>\n",
       "      <td>12.51</td>\n",
       "      <td>12.92</td>\n",
       "      <td>12.18</td>\n",
       "      <td>12.33</td>\n",
       "      <td>12.33</td>\n",
       "      <td>0.0</td>\n",
       "    </tr>\n",
       "    <tr>\n",
       "      <th>1993-02-02</th>\n",
       "      <td>44.21875</td>\n",
       "      <td>44.37500</td>\n",
       "      <td>44.12500</td>\n",
       "      <td>44.34375</td>\n",
       "      <td>24.912336</td>\n",
       "      <td>201300</td>\n",
       "      <td>12.47</td>\n",
       "      <td>12.89</td>\n",
       "      <td>12.22</td>\n",
       "      <td>12.25</td>\n",
       "      <td>12.25</td>\n",
       "      <td>0.0</td>\n",
       "    </tr>\n",
       "    <tr>\n",
       "      <th>1993-02-03</th>\n",
       "      <td>44.40625</td>\n",
       "      <td>44.84375</td>\n",
       "      <td>44.37500</td>\n",
       "      <td>44.81250</td>\n",
       "      <td>25.175682</td>\n",
       "      <td>529400</td>\n",
       "      <td>11.98</td>\n",
       "      <td>12.34</td>\n",
       "      <td>11.79</td>\n",
       "      <td>12.12</td>\n",
       "      <td>12.12</td>\n",
       "      <td>0.0</td>\n",
       "    </tr>\n",
       "    <tr>\n",
       "      <th>1993-02-04</th>\n",
       "      <td>44.96875</td>\n",
       "      <td>45.09375</td>\n",
       "      <td>44.46875</td>\n",
       "      <td>45.00000</td>\n",
       "      <td>25.281008</td>\n",
       "      <td>531500</td>\n",
       "      <td>11.86</td>\n",
       "      <td>12.84</td>\n",
       "      <td>11.69</td>\n",
       "      <td>12.29</td>\n",
       "      <td>12.29</td>\n",
       "      <td>0.0</td>\n",
       "    </tr>\n",
       "  </tbody>\n",
       "</table>\n",
       "</div>"
      ],
      "text/plain": [
       "            Open_SPY  High_SPY   Low_SPY  Close_SPY  Adj Close_SPY  \\\n",
       "Date                                                                 \n",
       "1993-01-29  43.96875  43.96875  43.75000   43.93750      24.684107   \n",
       "1993-02-01  43.96875  44.25000  43.96875   44.25000      24.859661   \n",
       "1993-02-02  44.21875  44.37500  44.12500   44.34375      24.912336   \n",
       "1993-02-03  44.40625  44.84375  44.37500   44.81250      25.175682   \n",
       "1993-02-04  44.96875  45.09375  44.46875   45.00000      25.281008   \n",
       "\n",
       "            Volume_SPY  Open_VIX  High_VIX  Low_VIX  Close_VIX  Adj Close_VIX  \\\n",
       "Date                                                                            \n",
       "1993-01-29     1003200     12.49     13.16    12.42      12.42          12.42   \n",
       "1993-02-01      480500     12.51     12.92    12.18      12.33          12.33   \n",
       "1993-02-02      201300     12.47     12.89    12.22      12.25          12.25   \n",
       "1993-02-03      529400     11.98     12.34    11.79      12.12          12.12   \n",
       "1993-02-04      531500     11.86     12.84    11.69      12.29          12.29   \n",
       "\n",
       "            Volume_VIX  \n",
       "Date                    \n",
       "1993-01-29         0.0  \n",
       "1993-02-01         0.0  \n",
       "1993-02-02         0.0  \n",
       "1993-02-03         0.0  \n",
       "1993-02-04         0.0  "
      ]
     },
     "execution_count": 64,
     "metadata": {},
     "output_type": "execute_result"
    }
   ],
   "source": [
    "data.head()"
   ]
  },
  {
   "cell_type": "code",
   "execution_count": 65,
   "metadata": {},
   "outputs": [
    {
     "data": {
      "text/plain": [
       "(7963, 12)"
      ]
     },
     "execution_count": 65,
     "metadata": {},
     "output_type": "execute_result"
    }
   ],
   "source": [
    "data.shape"
   ]
  },
  {
   "cell_type": "code",
   "execution_count": 66,
   "metadata": {},
   "outputs": [
    {
     "data": {
      "text/plain": [
       "Index(['Open_SPY', 'High_SPY', 'Low_SPY', 'Close_SPY', 'Adj Close_SPY',\n",
       "       'Volume_SPY', 'Open_VIX', 'High_VIX', 'Low_VIX', 'Close_VIX',\n",
       "       'Adj Close_VIX', 'Volume_VIX'],\n",
       "      dtype='object')"
      ]
     },
     "execution_count": 66,
     "metadata": {},
     "output_type": "execute_result"
    }
   ],
   "source": [
    "data.columns"
   ]
  },
  {
   "cell_type": "code",
   "execution_count": 67,
   "metadata": {},
   "outputs": [],
   "source": [
    "# Add Indicators\n",
    "# Add Moving Averages\n",
    "for ma_window in [2, 3, 5, 8, 13, 21, 34, 55, 89, 144, 233]:\n",
    "    data[f'MA_{ma_window}'] = ta.sma(data['Close_SPY'], length=ma_window)\n",
    "\n",
    "# Add Exponential Moving Averages\n",
    "for ema_window in [2, 3, 5, 8, 13, 21, 34, 55, 89, 144, 233]:\n",
    "    data[f'EMA_{ema_window}'] = ta.ema(data['Close_SPY'], length=ema_window)\n",
    "\n",
    "# Add RSI\n",
    "for rsi_window in [14, 21]:  # You can add more intervals if needed\n",
    "    data[f'RSI_{rsi_window}'] = ta.rsi(data['Close_SPY'], length=rsi_window)\n",
    "    "
   ]
  },
  {
   "cell_type": "code",
   "execution_count": 68,
   "metadata": {},
   "outputs": [
    {
     "data": {
      "text/plain": [
       "(7963, 36)"
      ]
     },
     "execution_count": 68,
     "metadata": {},
     "output_type": "execute_result"
    }
   ],
   "source": [
    "data.shape"
   ]
  },
  {
   "cell_type": "code",
   "execution_count": 69,
   "metadata": {},
   "outputs": [
    {
     "data": {
      "text/plain": [
       "Index(['Open_SPY', 'High_SPY', 'Low_SPY', 'Close_SPY', 'Adj Close_SPY',\n",
       "       'Volume_SPY', 'Open_VIX', 'High_VIX', 'Low_VIX', 'Close_VIX',\n",
       "       'Adj Close_VIX', 'Volume_VIX', 'MA_2', 'MA_3', 'MA_5', 'MA_8', 'MA_13',\n",
       "       'MA_21', 'MA_34', 'MA_55', 'MA_89', 'MA_144', 'MA_233', 'EMA_2',\n",
       "       'EMA_3', 'EMA_5', 'EMA_8', 'EMA_13', 'EMA_21', 'EMA_34', 'EMA_55',\n",
       "       'EMA_89', 'EMA_144', 'EMA_233', 'RSI_14', 'RSI_21'],\n",
       "      dtype='object')"
      ]
     },
     "execution_count": 69,
     "metadata": {},
     "output_type": "execute_result"
    }
   ],
   "source": [
    "data.columns"
   ]
  },
  {
   "cell_type": "code",
   "execution_count": 70,
   "metadata": {
    "scrolled": true
   },
   "outputs": [
    {
     "data": {
      "text/html": [
       "<div>\n",
       "<style scoped>\n",
       "    .dataframe tbody tr th:only-of-type {\n",
       "        vertical-align: middle;\n",
       "    }\n",
       "\n",
       "    .dataframe tbody tr th {\n",
       "        vertical-align: top;\n",
       "    }\n",
       "\n",
       "    .dataframe thead th {\n",
       "        text-align: right;\n",
       "    }\n",
       "</style>\n",
       "<table border=\"1\" class=\"dataframe\">\n",
       "  <thead>\n",
       "    <tr style=\"text-align: right;\">\n",
       "      <th></th>\n",
       "      <th>Open_SPY</th>\n",
       "      <th>High_SPY</th>\n",
       "      <th>Low_SPY</th>\n",
       "      <th>Close_SPY</th>\n",
       "      <th>Adj Close_SPY</th>\n",
       "      <th>Volume_SPY</th>\n",
       "      <th>Open_VIX</th>\n",
       "      <th>High_VIX</th>\n",
       "      <th>Low_VIX</th>\n",
       "      <th>Close_VIX</th>\n",
       "      <th>...</th>\n",
       "      <th>EMA_8</th>\n",
       "      <th>EMA_13</th>\n",
       "      <th>EMA_21</th>\n",
       "      <th>EMA_34</th>\n",
       "      <th>EMA_55</th>\n",
       "      <th>EMA_89</th>\n",
       "      <th>EMA_144</th>\n",
       "      <th>EMA_233</th>\n",
       "      <th>RSI_14</th>\n",
       "      <th>RSI_21</th>\n",
       "    </tr>\n",
       "    <tr>\n",
       "      <th>Date</th>\n",
       "      <th></th>\n",
       "      <th></th>\n",
       "      <th></th>\n",
       "      <th></th>\n",
       "      <th></th>\n",
       "      <th></th>\n",
       "      <th></th>\n",
       "      <th></th>\n",
       "      <th></th>\n",
       "      <th></th>\n",
       "      <th></th>\n",
       "      <th></th>\n",
       "      <th></th>\n",
       "      <th></th>\n",
       "      <th></th>\n",
       "      <th></th>\n",
       "      <th></th>\n",
       "      <th></th>\n",
       "      <th></th>\n",
       "      <th></th>\n",
       "      <th></th>\n",
       "    </tr>\n",
       "  </thead>\n",
       "  <tbody>\n",
       "    <tr>\n",
       "      <th>1993-01-29</th>\n",
       "      <td>43.96875</td>\n",
       "      <td>43.96875</td>\n",
       "      <td>43.75000</td>\n",
       "      <td>43.93750</td>\n",
       "      <td>24.684107</td>\n",
       "      <td>1003200</td>\n",
       "      <td>12.49</td>\n",
       "      <td>13.16</td>\n",
       "      <td>12.42</td>\n",
       "      <td>12.42</td>\n",
       "      <td>...</td>\n",
       "      <td>NaN</td>\n",
       "      <td>NaN</td>\n",
       "      <td>NaN</td>\n",
       "      <td>NaN</td>\n",
       "      <td>NaN</td>\n",
       "      <td>NaN</td>\n",
       "      <td>NaN</td>\n",
       "      <td>NaN</td>\n",
       "      <td>NaN</td>\n",
       "      <td>NaN</td>\n",
       "    </tr>\n",
       "    <tr>\n",
       "      <th>1993-02-01</th>\n",
       "      <td>43.96875</td>\n",
       "      <td>44.25000</td>\n",
       "      <td>43.96875</td>\n",
       "      <td>44.25000</td>\n",
       "      <td>24.859661</td>\n",
       "      <td>480500</td>\n",
       "      <td>12.51</td>\n",
       "      <td>12.92</td>\n",
       "      <td>12.18</td>\n",
       "      <td>12.33</td>\n",
       "      <td>...</td>\n",
       "      <td>NaN</td>\n",
       "      <td>NaN</td>\n",
       "      <td>NaN</td>\n",
       "      <td>NaN</td>\n",
       "      <td>NaN</td>\n",
       "      <td>NaN</td>\n",
       "      <td>NaN</td>\n",
       "      <td>NaN</td>\n",
       "      <td>NaN</td>\n",
       "      <td>NaN</td>\n",
       "    </tr>\n",
       "    <tr>\n",
       "      <th>1993-02-02</th>\n",
       "      <td>44.21875</td>\n",
       "      <td>44.37500</td>\n",
       "      <td>44.12500</td>\n",
       "      <td>44.34375</td>\n",
       "      <td>24.912336</td>\n",
       "      <td>201300</td>\n",
       "      <td>12.47</td>\n",
       "      <td>12.89</td>\n",
       "      <td>12.22</td>\n",
       "      <td>12.25</td>\n",
       "      <td>...</td>\n",
       "      <td>NaN</td>\n",
       "      <td>NaN</td>\n",
       "      <td>NaN</td>\n",
       "      <td>NaN</td>\n",
       "      <td>NaN</td>\n",
       "      <td>NaN</td>\n",
       "      <td>NaN</td>\n",
       "      <td>NaN</td>\n",
       "      <td>NaN</td>\n",
       "      <td>NaN</td>\n",
       "    </tr>\n",
       "    <tr>\n",
       "      <th>1993-02-03</th>\n",
       "      <td>44.40625</td>\n",
       "      <td>44.84375</td>\n",
       "      <td>44.37500</td>\n",
       "      <td>44.81250</td>\n",
       "      <td>25.175682</td>\n",
       "      <td>529400</td>\n",
       "      <td>11.98</td>\n",
       "      <td>12.34</td>\n",
       "      <td>11.79</td>\n",
       "      <td>12.12</td>\n",
       "      <td>...</td>\n",
       "      <td>NaN</td>\n",
       "      <td>NaN</td>\n",
       "      <td>NaN</td>\n",
       "      <td>NaN</td>\n",
       "      <td>NaN</td>\n",
       "      <td>NaN</td>\n",
       "      <td>NaN</td>\n",
       "      <td>NaN</td>\n",
       "      <td>NaN</td>\n",
       "      <td>NaN</td>\n",
       "    </tr>\n",
       "    <tr>\n",
       "      <th>1993-02-04</th>\n",
       "      <td>44.96875</td>\n",
       "      <td>45.09375</td>\n",
       "      <td>44.46875</td>\n",
       "      <td>45.00000</td>\n",
       "      <td>25.281008</td>\n",
       "      <td>531500</td>\n",
       "      <td>11.86</td>\n",
       "      <td>12.84</td>\n",
       "      <td>11.69</td>\n",
       "      <td>12.29</td>\n",
       "      <td>...</td>\n",
       "      <td>NaN</td>\n",
       "      <td>NaN</td>\n",
       "      <td>NaN</td>\n",
       "      <td>NaN</td>\n",
       "      <td>NaN</td>\n",
       "      <td>NaN</td>\n",
       "      <td>NaN</td>\n",
       "      <td>NaN</td>\n",
       "      <td>NaN</td>\n",
       "      <td>NaN</td>\n",
       "    </tr>\n",
       "  </tbody>\n",
       "</table>\n",
       "<p>5 rows × 36 columns</p>\n",
       "</div>"
      ],
      "text/plain": [
       "            Open_SPY  High_SPY   Low_SPY  Close_SPY  Adj Close_SPY  \\\n",
       "Date                                                                 \n",
       "1993-01-29  43.96875  43.96875  43.75000   43.93750      24.684107   \n",
       "1993-02-01  43.96875  44.25000  43.96875   44.25000      24.859661   \n",
       "1993-02-02  44.21875  44.37500  44.12500   44.34375      24.912336   \n",
       "1993-02-03  44.40625  44.84375  44.37500   44.81250      25.175682   \n",
       "1993-02-04  44.96875  45.09375  44.46875   45.00000      25.281008   \n",
       "\n",
       "            Volume_SPY  Open_VIX  High_VIX  Low_VIX  Close_VIX  ...  EMA_8  \\\n",
       "Date                                                            ...          \n",
       "1993-01-29     1003200     12.49     13.16    12.42      12.42  ...    NaN   \n",
       "1993-02-01      480500     12.51     12.92    12.18      12.33  ...    NaN   \n",
       "1993-02-02      201300     12.47     12.89    12.22      12.25  ...    NaN   \n",
       "1993-02-03      529400     11.98     12.34    11.79      12.12  ...    NaN   \n",
       "1993-02-04      531500     11.86     12.84    11.69      12.29  ...    NaN   \n",
       "\n",
       "            EMA_13  EMA_21  EMA_34  EMA_55  EMA_89  EMA_144  EMA_233  RSI_14  \\\n",
       "Date                                                                           \n",
       "1993-01-29     NaN     NaN     NaN     NaN     NaN      NaN      NaN     NaN   \n",
       "1993-02-01     NaN     NaN     NaN     NaN     NaN      NaN      NaN     NaN   \n",
       "1993-02-02     NaN     NaN     NaN     NaN     NaN      NaN      NaN     NaN   \n",
       "1993-02-03     NaN     NaN     NaN     NaN     NaN      NaN      NaN     NaN   \n",
       "1993-02-04     NaN     NaN     NaN     NaN     NaN      NaN      NaN     NaN   \n",
       "\n",
       "            RSI_21  \n",
       "Date                \n",
       "1993-01-29     NaN  \n",
       "1993-02-01     NaN  \n",
       "1993-02-02     NaN  \n",
       "1993-02-03     NaN  \n",
       "1993-02-04     NaN  \n",
       "\n",
       "[5 rows x 36 columns]"
      ]
     },
     "execution_count": 70,
     "metadata": {},
     "output_type": "execute_result"
    }
   ],
   "source": [
    "data.head()"
   ]
  },
  {
   "cell_type": "code",
   "execution_count": 118,
   "metadata": {},
   "outputs": [],
   "source": [
    "df = data[['Open_SPY', 'High_SPY', 'Low_SPY', 'Close_SPY', 'Adj Close_SPY',\n",
    "       'Volume_SPY', 'Open_VIX', 'High_VIX', 'Low_VIX', 'Close_VIX',\n",
    "       'Adj Close_VIX', 'Volume_VIX', 'MA_2', 'MA_3', 'MA_5', 'MA_8', 'MA_13',\n",
    "       'MA_21', 'MA_34', 'MA_55', 'MA_89', 'MA_144', 'MA_233', 'EMA_2',\n",
    "       'EMA_3', 'EMA_5', 'EMA_8', 'EMA_13', 'EMA_21', 'EMA_34', 'EMA_55',\n",
    "       'EMA_89', 'EMA_144', 'EMA_233', 'RSI_14', 'RSI_21']].copy(deep=True)\n",
    "features_df = df.fillna(0.0)\n",
    "shape_y=features_df.shape[1]-1\n",
    "# Normalize data\n",
    "scaler = MinMaxScaler(feature_range=(0, 1))\n",
    "scaled_data = scaler.fit_transform(features_df)\n",
    "\n",
    "# Define function to create dataset with lookback\n",
    "def create_dataset(data, lookback=1):\n",
    "    X, y = [], []\n",
    "    for i in range(len(data) - lookback):\n",
    "        X.append(data[i:(i + lookback), :])\n",
    "        y.append(data[i + lookback, 3])  \n",
    "    return np.array(X), np.array(y)\n",
    "\n",
    "# Split the data into training and testing sets\n",
    "train_size = int(len(scaled_data) * 0.8)\n",
    "train, test = scaled_data[:train_size], scaled_data[train_size:]\n",
    "\n",
    "lookback = 3  \n",
    "X_train, y_train = create_dataset(train, lookback)\n",
    "X_test, y_test = create_dataset(test, lookback)\n",
    "\n",
    "# Reshape 3D input \n",
    "X_train = np.reshape(X_train, (X_train.shape[0], X_train.shape[1], X_train.shape[2]))\n",
    "X_test = np.reshape(X_test, (X_test.shape[0], X_test.shape[1], X_test.shape[2]))\n",
    "\n"
   ]
  },
  {
   "cell_type": "code",
   "execution_count": 136,
   "metadata": {},
   "outputs": [
    {
     "name": "stdout",
     "output_type": "stream",
     "text": [
      "Epoch 1/10\n",
      "\u001b[1m199/199\u001b[0m \u001b[32m━━━━━━━━━━━━━━━━━━━━\u001b[0m\u001b[37m\u001b[0m \u001b[1m56s\u001b[0m 172ms/step - loss: 0.0028 - val_loss: 0.0016\n",
      "Epoch 2/10\n",
      "\u001b[1m199/199\u001b[0m \u001b[32m━━━━━━━━━━━━━━━━━━━━\u001b[0m\u001b[37m\u001b[0m \u001b[1m32s\u001b[0m 161ms/step - loss: 6.5243e-05 - val_loss: 3.5715e-04\n",
      "Epoch 3/10\n",
      "\u001b[1m199/199\u001b[0m \u001b[32m━━━━━━━━━━━━━━━━━━━━\u001b[0m\u001b[37m\u001b[0m \u001b[1m32s\u001b[0m 162ms/step - loss: 4.8906e-05 - val_loss: 5.9075e-04\n",
      "Epoch 4/10\n",
      "\u001b[1m199/199\u001b[0m \u001b[32m━━━━━━━━━━━━━━━━━━━━\u001b[0m\u001b[37m\u001b[0m \u001b[1m33s\u001b[0m 163ms/step - loss: 6.5289e-05 - val_loss: 2.3157e-04\n",
      "Epoch 5/10\n",
      "\u001b[1m199/199\u001b[0m \u001b[32m━━━━━━━━━━━━━━━━━━━━\u001b[0m\u001b[37m\u001b[0m \u001b[1m32s\u001b[0m 163ms/step - loss: 7.9850e-05 - val_loss: 0.0012\n",
      "Epoch 6/10\n",
      "\u001b[1m199/199\u001b[0m \u001b[32m━━━━━━━━━━━━━━━━━━━━\u001b[0m\u001b[37m\u001b[0m \u001b[1m33s\u001b[0m 165ms/step - loss: 1.8260e-04 - val_loss: 0.0015\n",
      "Epoch 7/10\n",
      "\u001b[1m199/199\u001b[0m \u001b[32m━━━━━━━━━━━━━━━━━━━━\u001b[0m\u001b[37m\u001b[0m \u001b[1m32s\u001b[0m 161ms/step - loss: 6.7097e-05 - val_loss: 5.1991e-04\n",
      "Epoch 8/10\n",
      "\u001b[1m199/199\u001b[0m \u001b[32m━━━━━━━━━━━━━━━━━━━━\u001b[0m\u001b[37m\u001b[0m \u001b[1m35s\u001b[0m 176ms/step - loss: 3.4871e-05 - val_loss: 0.0019\n",
      "Epoch 9/10\n",
      "\u001b[1m199/199\u001b[0m \u001b[32m━━━━━━━━━━━━━━━━━━━━\u001b[0m\u001b[37m\u001b[0m \u001b[1m33s\u001b[0m 164ms/step - loss: 4.0000e-05 - val_loss: 9.3056e-04\n",
      "Epoch 10/10\n",
      "\u001b[1m199/199\u001b[0m \u001b[32m━━━━━━━━━━━━━━━━━━━━\u001b[0m\u001b[37m\u001b[0m \u001b[1m33s\u001b[0m 163ms/step - loss: 4.2256e-05 - val_loss: 7.0701e-04\n"
     ]
    }
   ],
   "source": [
    "# Build LSTM Network\n",
    "model = Sequential()\n",
    "\n",
    "# Input layer\n",
    "model.add(Input(shape=(lookback, X_train.shape[2])))\n",
    "\n",
    "# Add LSTM layers\n",
    "model.add(Bidirectional(LSTM(units=512, return_sequences=True)))\n",
    "model.add(Dropout(0.25))\n",
    "model.add(Bidirectional(LSTM(units=512, return_sequences=True)))\n",
    "model.add(Dropout(0.25))\n",
    "model.add(Bidirectional(LSTM(units=512)))\n",
    "model.add(Dense(1))\n",
    "# Compile model\n",
    "model.compile(optimizer='adam', loss='mean_squared_error')\n",
    "\n",
    "# Train the model\n",
    "\n",
    "history = model.fit(X_train, y_train, epochs=10, batch_size=32, validation_data=(X_test, y_test), \n",
    "                    verbose=1, shuffle=True)\n"
   ]
  },
  {
   "cell_type": "code",
   "execution_count": 137,
   "metadata": {},
   "outputs": [
    {
     "name": "stdout",
     "output_type": "stream",
     "text": [
      "\u001b[1m199/199\u001b[0m \u001b[32m━━━━━━━━━━━━━━━━━━━━\u001b[0m\u001b[37m\u001b[0m \u001b[1m9s\u001b[0m 39ms/step\n",
      "\u001b[1m50/50\u001b[0m \u001b[32m━━━━━━━━━━━━━━━━━━━━\u001b[0m\u001b[37m\u001b[0m \u001b[1m2s\u001b[0m 33ms/step\n"
     ]
    }
   ],
   "source": [
    "# Make predictions\n",
    "train_predict = model.predict(X_train)\n",
    "test_predict = model.predict(X_test)\n",
    "\n",
    "# Inverse transform predictions\n",
    "train_predict = scaler.inverse_transform(np.concatenate((train_predict, np.zeros((train_predict.shape[0], shape_y))), axis=1))[:, 0]\n",
    "test_predict = scaler.inverse_transform(np.concatenate((test_predict, np.zeros((test_predict.shape[0], shape_y))), axis=1))[:, 0]\n",
    "\n",
    "# Inverse transform actual values\n",
    "y_train_actual = scaler.inverse_transform(np.concatenate((y_train.reshape(-1, 1), np.zeros((y_train.shape[0], shape_y))), axis=1))[:, 0]\n",
    "y_test_actual = scaler.inverse_transform(np.concatenate((y_test.reshape(-1, 1), np.zeros((y_test.shape[0], shape_y))), axis=1))[:, 0]\n"
   ]
  },
  {
   "cell_type": "code",
   "execution_count": 139,
   "metadata": {},
   "outputs": [
    {
     "data": {
      "image/png": "[encoded data removed]",
      "text/plain": [
       "<Figure size 800x400 with 1 Axes>"
      ]
     },
     "metadata": {},
     "output_type": "display_data"
    }
   ],
   "source": [
    "plt.figure(figsize=(8,4))\n",
    "plt.plot(history.history['loss'], label='Train Loss')\n",
    "plt.plot(history.history['val_loss'], label='Test Loss')\n",
    "plt.title('model loss')\n",
    "plt.ylabel('loss')\n",
    "plt.xlabel('epochs')\n",
    "plt.legend(loc='upper right')\n",
    "plt.show();"
   ]
  },
  {
   "cell_type": "code",
   "execution_count": 140,
   "metadata": {},
   "outputs": [
    {
     "name": "stdout",
     "output_type": "stream",
     "text": [
      "Train RMSE: 3.497248359042244\n",
      "Test RMSE: 13.822305573634354\n"
     ]
    },
    {
     "data": {
      "image/png": "[encoded data removed]",
      "text/plain": [
       "<Figure size 640x480 with 1 Axes>"
      ]
     },
     "metadata": {},
     "output_type": "display_data"
    }
   ],
   "source": [
    "# Evaluate the model\n",
    "train_rmse = np.sqrt(mean_squared_error(y_train_actual, train_predict))\n",
    "test_rmse = np.sqrt(mean_squared_error(y_test_actual, test_predict))\n",
    "print(f\"Train RMSE: {train_rmse}\")\n",
    "print(f\"Test RMSE: {test_rmse}\")\n",
    "\n",
    "# Plot predictions\n",
    "plt.plot(y_test_actual, label=\"Actual Close_SPY\")\n",
    "plt.plot(test_predict, label=\"Predicted Close_SPY\")\n",
    "plt.legend()\n",
    "plt.show()"
   ]
  },
  {
   "cell_type": "code",
   "execution_count": null,
   "metadata": {},
   "outputs": [],
   "source": []
  }
 ],
 "metadata": {
  "kernelspec": {
   "display_name": "Python 3 (ipykernel)",
   "language": "python",
   "name": "python3"
  },
  "language_info": {
   "codemirror_mode": {
    "name": "ipython",
    "version": 3
   },
   "file_extension": ".py",
   "mimetype": "text/x-python",
   "name": "python",
   "nbconvert_exporter": "python",
   "pygments_lexer": "ipython3",
   "version": "3.12.5"
  }
 },
 "nbformat": 4,
 "nbformat_minor": 4
}
